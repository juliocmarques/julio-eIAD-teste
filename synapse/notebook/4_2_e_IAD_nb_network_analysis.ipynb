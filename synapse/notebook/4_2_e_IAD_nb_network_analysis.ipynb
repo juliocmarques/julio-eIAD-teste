{
  "cells": [
    {
      "cell_type": "markdown",
      "metadata": {
        "nteract": {
          "transient": {
            "deleting": false
          }
        }
      },
      "source": [
        "## This notebook calculates the pagerank score for each node"
      ]
    },
    {
      "cell_type": "markdown",
      "metadata": {
        "nteract": {
          "transient": {
            "deleting": false
          }
        }
      },
      "source": [
        "### Load packages"
      ]
    },
    {
      "cell_type": "code",
      "metadata": {
        "jupyter": {
          "outputs_hidden": false,
          "source_hidden": false
        },
        "nteract": {
          "transient": {
            "deleting": false
          }
        }
      },
      "source": [
        "%%configure -f\r\n",
        "{\r\n",
        "\"conf\": {\r\n",
        "    \"spark.dynamicAllocation.disableIfMinMaxNotSpecified.enabled\": true,\r\n",
        "    \"spark.dynamicAllocation.enabled\": true,\r\n",
        "    \"spark.dynamicAllocation.minExecutors\": 2,\r\n",
        "    \"spark.dynamicAllocation.maxExecutors\": 40\r\n",
        "   }\r\n",
        "}"
      ]
    },
    {
      "cell_type": "code",
      "metadata": {
        "jupyter": {
          "outputs_hidden": false,
          "source_hidden": false
        },
        "nteract": {
          "transient": {
            "deleting": false
          }
        }
      },
      "source": [
        "import org.apache.spark._\r\n",
        "import org.apache.spark.graphx._\r\n",
        "import org.apache.spark.rdd.RDD\r\n",
        "import org.apache.spark.sql.functions.lit"
      ]
    },
    {
      "cell_type": "code",
      "metadata": {
        "jupyter": {
          "outputs_hidden": false,
          "source_hidden": false
        },
        "nteract": {
          "transient": {
            "deleting": false
          }
        },
        "tags": [
          "parameters"
        ]
      },
      "source": [
        "var edge_path = \"\"\r\n",
        "var page_rank_path = \"\""
      ]
    },
    {
      "cell_type": "markdown",
      "metadata": {
        "nteract": {
          "transient": {
            "deleting": false
          }
        }
      },
      "source": [
        "### Load data"
      ]
    },
    {
      "cell_type": "code",
      "metadata": {},
      "source": [
        "val df = spark.read.format(\"parquet\").option(\"header\",\"true\").load(edge_path)"
      ]
    },
    {
      "cell_type": "markdown",
      "metadata": {
        "nteract": {
          "transient": {
            "deleting": false
          }
        }
      },
      "source": [
        "### Convert edges to integers if not already done"
      ]
    },
    {
      "cell_type": "code",
      "metadata": {
        "jupyter": {
          "outputs_hidden": false,
          "source_hidden": false
        },
        "nteract": {
          "transient": {
            "deleting": false
          }
        }
      },
      "source": [
        "val df1 = df.withColumn(\"issuer_id_indexed\",col(\"issuer_id_indexed\").cast(\"Integer\")).withColumn(\"receiver_id_indexed\",col(\"receiver_id_indexed\").cast(\"Integer\")).withColumn(\"edge_count\",col(\"edge_count\").cast(\"Integer\"))"
      ]
    },
    {
      "cell_type": "markdown",
      "metadata": {
        "nteract": {
          "transient": {
            "deleting": false
          }
        }
      },
      "source": [
        "### Create vertices"
      ]
    },
    {
      "cell_type": "code",
      "metadata": {
        "jupyter": {
          "outputs_hidden": false,
          "source_hidden": false
        },
        "nteract": {
          "transient": {
            "deleting": false
          }
        }
      },
      "source": [
        "val vertices : RDD[(VertexId, Integer)] = df1\r\n",
        "    .select(explode(array('issuer_id_indexed, 'receiver_id_indexed))) // issuer_id and receiver_id are the vertices\r\n",
        "    .distinct // we remove duplicates\r\n",
        "    .rdd.map(_.getAs[Integer](0)) // transform to RDD\r\n",
        "    .zipWithIndex // associate a long index to each vertex\r\n",
        "    .map(_.swap)\r\n",
        "\r\n",
        "val vertexDf = vertices.toDF(\"id\", \"node\")"
      ]
    },
    {
      "cell_type": "markdown",
      "metadata": {
        "nteract": {
          "transient": {
            "deleting": false
          }
        }
      },
      "source": [
        "### Create edges"
      ]
    },
    {
      "cell_type": "code",
      "metadata": {
        "jupyter": {
          "outputs_hidden": false,
          "source_hidden": false
        },
        "nteract": {
          "transient": {
            "deleting": false
          }
        }
      },
      "source": [
        "val edges : RDD[Edge[Integer]] = df1\r\n",
        "    .join(vertexDf, df1(\"issuer_id_indexed\") === vertexDf(\"node\")) // getting the IDs for \"issuer_id\"\r\n",
        "    .select('issuer_id_indexed, 'receiver_id_indexed, 'edge_count, 'id as 'idS)\r\n",
        "    .join(vertexDf, df1(\"receiver_id_indexed\") === vertexDf(\"node\")) // getting the IDs for \"receiver_id\"\r\n",
        "    .rdd.map(row => // creating the edge using column \"edge_count\" as metadata \r\n",
        "    Edge(row.getAs[Long](\"idS\"), row.getAs[Long](\"id\"), row.getAs[Integer](\"edge_count\")))"
      ]
    },
    {
      "cell_type": "markdown",
      "metadata": {
        "nteract": {
          "transient": {
            "deleting": false
          }
        }
      },
      "source": [
        "### Create graph"
      ]
    },
    {
      "cell_type": "code",
      "metadata": {
        "jupyter": {
          "outputs_hidden": false,
          "source_hidden": false
        },
        "nteract": {
          "transient": {
            "deleting": false
          }
        }
      },
      "source": [
        "// And finally\r\n",
        "val graph = Graph(vertices, edges)"
      ]
    },
    {
      "cell_type": "markdown",
      "metadata": {
        "nteract": {
          "transient": {
            "deleting": false
          }
        }
      },
      "source": [
        "### Run pagerank"
      ]
    },
    {
      "cell_type": "code",
      "metadata": {
        "jupyter": {
          "outputs_hidden": false,
          "source_hidden": false
        },
        "nteract": {
          "transient": {
            "deleting": false
          }
        }
      },
      "source": [
        "var pgrDf = vertexDf.withColumn(\"pagerank_score\",lit(0))\r\n",
        "try {\r\n",
        "    val pgr = graph.pageRank(0.1)\r\n",
        "    val pgrDF = pgr.vertices.toDF(\"node_id\",\"pagerank_score\")\r\n",
        "    pgrDf = pgrDF.join(vertexDf, $\"node_id\"===$\"id\")\r\n",
        "} catch {  \r\n",
        "    case e: Exception => println(\"Exception occurred : \" + e)\r\n",
        "} \r\n",
        ""
      ]
    },
    {
      "cell_type": "markdown",
      "metadata": {
        "nteract": {
          "transient": {
            "deleting": false
          }
        }
      },
      "source": [
        "### Save dataframe"
      ]
    },
    {
      "cell_type": "code",
      "metadata": {
        "jupyter": {
          "outputs_hidden": false,
          "source_hidden": false
        },
        "nteract": {
          "transient": {
            "deleting": false
          }
        }
      },
      "source": [
        "pgrDf.select(pgrDf(\"node\"),pgrDf(\"pagerank_score\")).toDF(\"issuer_id_indexed\",\"pagerank_score\").write.mode(\"overwrite\").option(\"header\", \"true\").format(\"parquet\").save(page_rank_path)"
      ]
    }
  ],
  "metadata": {
    "kernelspec": {
      "display_name": "scala",
      "name": "synapse_spark"
    },
    "language_info": {
      "name": "scala"
    }
  },
  "nbformat": 4,
  "nbformat_minor": 2
}
